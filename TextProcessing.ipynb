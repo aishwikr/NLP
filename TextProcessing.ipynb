{
  "nbformat": 4,
  "nbformat_minor": 0,
  "metadata": {
    "colab": {
      "name": "TextProcessing.ipynb",
      "provenance": [],
      "collapsed_sections": [],
      "toc_visible": true,
      "include_colab_link": true
    },
    "kernelspec": {
      "name": "python3",
      "display_name": "Python 3"
    },
    "accelerator": "GPU"
  },
  "cells": [
    {
      "cell_type": "markdown",
      "metadata": {
        "id": "view-in-github",
        "colab_type": "text"
      },
      "source": [
        "<a href=\"https://colab.research.google.com/github/aishwikr/NLP/blob/master/TextProcessing.ipynb\" target=\"_parent\"><img src=\"https://colab.research.google.com/assets/colab-badge.svg\" alt=\"Open In Colab\"/></a>"
      ]
    },
    {
      "cell_type": "markdown",
      "metadata": {
        "id": "SMtbzfCoSoNc",
        "colab_type": "text"
      },
      "source": [
        ""
      ]
    },
    {
      "cell_type": "markdown",
      "metadata": {
        "id": "LnLAMhWknSqy",
        "colab_type": "text"
      },
      "source": [
        "## Importing Libraries"
      ]
    },
    {
      "cell_type": "code",
      "metadata": {
        "id": "cdzm1B0SnR74",
        "colab_type": "code",
        "outputId": "1e6daa71-b2e3-4373-cb7a-30ea5495bd0e",
        "colab": {
          "base_uri": "https://localhost:8080/",
          "height": 1000
        }
      },
      "source": [
        "#loading the dataset\n",
        "import pandas as pd\n",
        "\n",
        "#string manipulations\n",
        "import string\n",
        "import re\n",
        "\n",
        "#nltk libraries and corpus\n",
        "import nltk\n",
        "from nltk.corpus import stopwords\n",
        "from nltk.stem import PorterStemmer\n",
        "from nltk.stem import WordNetLemmatizer\n",
        "from nltk.tokenize import word_tokenize\n",
        "from nltk import pos_tag\n",
        "nltk.download()\n",
        "nltk.download('punkt')\n",
        "nltk.download('stopwords')\n",
        "nltk.download('wordnet')"
      ],
      "execution_count": 1,
      "outputs": [
        {
          "output_type": "stream",
          "text": [
            "NLTK Downloader\n",
            "---------------------------------------------------------------------------\n",
            "    d) Download   l) List    u) Update   c) Config   h) Help   q) Quit\n",
            "---------------------------------------------------------------------------\n",
            "Downloader> d\n",
            "\n",
            "Download which package (l=list; x=cancel)?\n",
            "  Identifier> l\n",
            "Packages:\n",
            "  [ ] abc................. Australian Broadcasting Commission 2006\n",
            "  [ ] alpino.............. Alpino Dutch Treebank\n",
            "  [ ] averaged_perceptron_tagger Averaged Perceptron Tagger\n",
            "  [ ] averaged_perceptron_tagger_ru Averaged Perceptron Tagger (Russian)\n",
            "  [ ] basque_grammars..... Grammars for Basque\n",
            "  [ ] biocreative_ppi..... BioCreAtIvE (Critical Assessment of Information\n",
            "                           Extraction Systems in Biology)\n",
            "  [ ] bllip_wsj_no_aux.... BLLIP Parser: WSJ Model\n",
            "  [ ] book_grammars....... Grammars from NLTK Book\n",
            "  [ ] brown............... Brown Corpus\n",
            "  [ ] brown_tei........... Brown Corpus (TEI XML Version)\n",
            "  [ ] cess_cat............ CESS-CAT Treebank\n",
            "  [ ] cess_esp............ CESS-ESP Treebank\n",
            "  [ ] chat80.............. Chat-80 Data Files\n",
            "  [ ] city_database....... City Database\n",
            "  [ ] cmudict............. The Carnegie Mellon Pronouncing Dictionary (0.6)\n",
            "  [ ] comparative_sentences Comparative Sentence Dataset\n",
            "  [ ] comtrans............ ComTrans Corpus Sample\n",
            "  [ ] conll2000........... CONLL 2000 Chunking Corpus\n",
            "  [ ] conll2002........... CONLL 2002 Named Entity Recognition Corpus\n",
            "Hit Enter to continue: u\n",
            "  [ ] conll2007........... Dependency Treebanks from CoNLL 2007 (Catalan\n",
            "                           and Basque Subset)\n",
            "  [ ] crubadan............ Crubadan Corpus\n",
            "  [ ] dependency_treebank. Dependency Parsed Treebank\n",
            "  [ ] dolch............... Dolch Word List\n",
            "  [ ] europarl_raw........ Sample European Parliament Proceedings Parallel\n",
            "                           Corpus\n",
            "  [ ] floresta............ Portuguese Treebank\n",
            "  [ ] framenet_v15........ FrameNet 1.5\n",
            "  [ ] framenet_v17........ FrameNet 1.7\n",
            "  [ ] gazetteers.......... Gazeteer Lists\n",
            "  [ ] genesis............. Genesis Corpus\n",
            "  [ ] gutenberg........... Project Gutenberg Selections\n",
            "  [ ] ieer................ NIST IE-ER DATA SAMPLE\n",
            "  [ ] inaugural........... C-Span Inaugural Address Corpus\n",
            "  [ ] indian.............. Indian Language POS-Tagged Corpus\n",
            "  [ ] jeita............... JEITA Public Morphologically Tagged Corpus (in\n",
            "                           ChaSen format)\n",
            "  [ ] kimmo............... PC-KIMMO Data Files\n",
            "  [ ] knbc................ KNB Corpus (Annotated blog corpus)\n",
            "  [ ] large_grammars...... Large context-free and feature-based grammars\n",
            "                           for parser comparison\n",
            "Hit Enter to continue: q\n",
            "\n",
            "Download which package (l=list; x=cancel)?\n",
            "  Identifier> q\n",
            "\n",
            "---------------------------------------------------------------------------\n",
            "    d) Download   l) List    u) Update   c) Config   h) Help   q) Quit\n",
            "---------------------------------------------------------------------------\n",
            "Downloader> c\n",
            "\n",
            "Data Server:\n",
            "  - URL: <https://raw.githubusercontent.com/nltk/nltk_data/gh-pages/index.xml>\n",
            "  - 7 Package Collections Available\n",
            "  - 107 Individual Packages Available\n",
            "\n",
            "Local Machine:\n",
            "  - Data directory: /root/nltk_data\n",
            "\n",
            "---------------------------------------------------------------------------\n",
            "    s) Show Config   u) Set Server URL   d) Set Data Dir   m) Main Menu\n",
            "---------------------------------------------------------------------------\n",
            "Config> m\n",
            "\n",
            "---------------------------------------------------------------------------\n",
            "    d) Download   l) List    u) Update   c) Config   h) Help   q) Quit\n",
            "---------------------------------------------------------------------------\n",
            "Downloader> u\n",
            "\n",
            "Nothing to update.\n",
            "\n",
            "---------------------------------------------------------------------------\n",
            "    d) Download   l) List    u) Update   c) Config   h) Help   q) Quit\n",
            "---------------------------------------------------------------------------\n",
            "Downloader> q\n",
            "[nltk_data] Downloading package punkt to /root/nltk_data...\n",
            "[nltk_data]   Unzipping tokenizers/punkt.zip.\n",
            "[nltk_data] Downloading package stopwords to /root/nltk_data...\n",
            "[nltk_data]   Unzipping corpora/stopwords.zip.\n",
            "[nltk_data] Downloading package wordnet to /root/nltk_data...\n",
            "[nltk_data]   Unzipping corpora/wordnet.zip.\n"
          ],
          "name": "stdout"
        },
        {
          "output_type": "execute_result",
          "data": {
            "text/plain": [
              "True"
            ]
          },
          "metadata": {
            "tags": []
          },
          "execution_count": 1
        }
      ]
    },
    {
      "cell_type": "markdown",
      "metadata": {
        "id": "quHI0w2fnNWF",
        "colab_type": "text"
      },
      "source": [
        "## Step 1: Reading Data\n",
        "- Read the dataset in an appropriate data structure"
      ]
    },
    {
      "cell_type": "code",
      "metadata": {
        "id": "6sghWfnpWA0v",
        "colab_type": "code",
        "colab": {}
      },
      "source": [
        "def loadData(filename):\n",
        "    #loading the dataset into a dataframe \n",
        "    data = pd.read_csv(filename)\n",
        "\n",
        "    #size of the dataframe\n",
        "    print(\"\\nDimensions of Dataset:\",data.shape)\n",
        "\n",
        "    #visualising the first few rows for the dataset (5 by default)\n",
        "    print(data.head())\n",
        "    \n",
        "    return data"
      ],
      "execution_count": 0,
      "outputs": []
    },
    {
      "cell_type": "markdown",
      "metadata": {
        "id": "wiUNiRCb4O9e",
        "colab_type": "text"
      },
      "source": [
        "### Additional processing for Dataset 1"
      ]
    },
    {
      "cell_type": "markdown",
      "metadata": {
        "id": "-T4OXkEFrYuo",
        "colab_type": "text"
      },
      "source": [
        "##Step 2: Pre-processing\n",
        "- To preprocess your text simply means to bring your text into a form that is predictable and analyzable for your task. This may include lowercasing, stemming, lemmatization, stop-words removal etc. Tokenize the documents carefully to extract individual terms."
      ]
    },
    {
      "cell_type": "markdown",
      "metadata": {
        "id": "zSL9kM2_7hb1",
        "colab_type": "text"
      },
      "source": [
        "### Step 2(a): Removing HTML Tags\n",
        "- Datasets often contain tags when downloaded and hence its removal is paramount."
      ]
    },
    {
      "cell_type": "code",
      "metadata": {
        "id": "VcKsDVJJVxKO",
        "colab_type": "code",
        "colab": {}
      },
      "source": [
        "def remTags(text):\n",
        "    # Using regular expressions to match html tags and replace them with ''\n",
        "    updated = re.sub('<[^<]+?>', '', text)\n",
        "    print(\"Tags removed >>\", updated)\n",
        "    return updated"
      ],
      "execution_count": 0,
      "outputs": []
    },
    {
      "cell_type": "markdown",
      "metadata": {
        "id": "KWq6QGNM70MD",
        "colab_type": "text"
      },
      "source": [
        "### Step 2(b): Removing Punctuations\n",
        "- Dataset 1 contains two different columns labelled 'Title' & 'Body' which can be handled separately or combined and then processed as per the user's requirement."
      ]
    },
    {
      "cell_type": "code",
      "metadata": {
        "id": "XwXIhx-PVedb",
        "colab_type": "code",
        "colab": {}
      },
      "source": [
        "def remPunctuations(text):\n",
        "    # table is a translation table for removing the punctuation marks from the words\n",
        "    table = str.maketrans({key: None for key in string.punctuation})\n",
        "    translated = text.translate(table)\n",
        "    print(\"Punctuations removed >>\", translated)\n",
        "    return translated"
      ],
      "execution_count": 0,
      "outputs": []
    },
    {
      "cell_type": "markdown",
      "metadata": {
        "id": "dDap_St8F9VR",
        "colab_type": "text"
      },
      "source": [
        "### Step 2(c): Tokenization function\n",
        "- This function takes string data type as input and outputs of series of tokens"
      ]
    },
    {
      "cell_type": "code",
      "metadata": {
        "id": "maUN0XXeF9Cs",
        "colab_type": "code",
        "colab": {}
      },
      "source": [
        "def tokenize(text):\n",
        "    return word_tokenize(text)"
      ],
      "execution_count": 0,
      "outputs": []
    },
    {
      "cell_type": "markdown",
      "metadata": {
        "id": "s0d1hWjN9ap1",
        "colab_type": "text"
      },
      "source": [
        "### Step 2(d): Stop-words removal function \n",
        "- Removing the stop words using the english vocabulary"
      ]
    },
    {
      "cell_type": "code",
      "metadata": {
        "id": "hvYXrgSz9foo",
        "colab_type": "code",
        "colab": {}
      },
      "source": [
        "def remStop(tokens):\n",
        "    stop_words = set(stopwords.words('english'))\n",
        "    filtered = [t for t in tokens if not t in stop_words]\n",
        "    return filtered"
      ],
      "execution_count": 0,
      "outputs": []
    },
    {
      "cell_type": "markdown",
      "metadata": {
        "id": "TXElzynT9im4",
        "colab_type": "text"
      },
      "source": [
        "### Step 2(e): Stemming, Lemmatization & Lowercasing\n",
        "- Functions for finding the stemmed word, the root and then to convert all the documents to lower case"
      ]
    },
    {
      "cell_type": "code",
      "metadata": {
        "id": "flI0r-Mb9l7A",
        "colab_type": "code",
        "colab": {}
      },
      "source": [
        "def stem(tokens):\n",
        "    ps = PorterStemmer()\n",
        "    stemmed = [ps.stem(t) for t in tokens]\n",
        "    return list(set(stemmed))"
      ],
      "execution_count": 0,
      "outputs": []
    },
    {
      "cell_type": "code",
      "metadata": {
        "id": "B8w0zcHOTvB-",
        "colab_type": "code",
        "colab": {}
      },
      "source": [
        "def lemmatize(tokens):\n",
        "    lz = WordNetLemmatizer()\n",
        "    lemmatized = [lz.lemmatize(t) for t in tokens]\n",
        "    return list(set(lemmatized))"
      ],
      "execution_count": 0,
      "outputs": []
    },
    {
      "cell_type": "code",
      "metadata": {
        "id": "kZy_L_V9UwI5",
        "colab_type": "code",
        "colab": {}
      },
      "source": [
        "def toLower(tokens):\n",
        "    return [t.lower() for t in tokens]"
      ],
      "execution_count": 0,
      "outputs": []
    },
    {
      "cell_type": "markdown",
      "metadata": {
        "id": "SoLmecE_iRR9",
        "colab_type": "text"
      },
      "source": [
        "## **Step 3: POS Tagging**\n",
        "\n",
        "\n",
        "*   Function to Assign POS tags to each token\n",
        "*   Pass tokens of a document as arguments to the given function,the returned value will have POS tags corresponding to each token in that document\n",
        "\n"
      ]
    },
    {
      "cell_type": "code",
      "metadata": {
        "id": "_pzegeHjHKkn",
        "colab_type": "code",
        "colab": {}
      },
      "source": [
        "def POStagging(tokens):\n",
        "    return nltk.pos_tag(tokens)"
      ],
      "execution_count": 0,
      "outputs": []
    },
    {
      "cell_type": "markdown",
      "metadata": {
        "id": "niZvP5RBEhc2",
        "colab_type": "text"
      },
      "source": [
        "## Step 5: Named Entity Recognition (NER) \n",
        "(also known as entity identification, entity chunking and entity extraction) \n",
        "\n",
        "**What is an entity?**\n",
        "\n",
        "Named entity is a real-world object, such as persons, locations, organizations, products, etc., that can be denoted with a proper name. e.g., New York City is an instance of a Place.\n",
        "\n",
        "**Use cases:**\n",
        "\n",
        "*   Creating related tags or linking to relevant topics\n",
        "*   Context understanding in search, recommendations\n",
        "\n",
        "\n",
        "\n",
        "\n",
        "---\n",
        "\n",
        "\n",
        "\n",
        "Using another useful NLP library called **[Spacy](https://spacy.io/usage)**."
      ]
    },
    {
      "cell_type": "code",
      "metadata": {
        "id": "oU8smZTeEtok",
        "colab_type": "code",
        "outputId": "a3c2a5fc-79b1-4b29-98f8-7dded258f366",
        "colab": {
          "base_uri": "https://localhost:8080/",
          "height": 428
        }
      },
      "source": [
        "# Install and import spacy\n",
        "!pip install -U spacy\n",
        "import spacy\n",
        "print(\"\\n\\nSpacy with version=={} imported.\".format(spacy.__version__))"
      ],
      "execution_count": 10,
      "outputs": [
        {
          "output_type": "stream",
          "text": [
            "Requirement already up-to-date: spacy in /usr/local/lib/python3.6/dist-packages (2.2.4)\n",
            "Requirement already satisfied, skipping upgrade: blis<0.5.0,>=0.4.0 in /usr/local/lib/python3.6/dist-packages (from spacy) (0.4.1)\n",
            "Requirement already satisfied, skipping upgrade: thinc==7.4.0 in /usr/local/lib/python3.6/dist-packages (from spacy) (7.4.0)\n",
            "Requirement already satisfied, skipping upgrade: catalogue<1.1.0,>=0.0.7 in /usr/local/lib/python3.6/dist-packages (from spacy) (1.0.0)\n",
            "Requirement already satisfied, skipping upgrade: preshed<3.1.0,>=3.0.2 in /usr/local/lib/python3.6/dist-packages (from spacy) (3.0.2)\n",
            "Requirement already satisfied, skipping upgrade: numpy>=1.15.0 in /usr/local/lib/python3.6/dist-packages (from spacy) (1.18.2)\n",
            "Requirement already satisfied, skipping upgrade: wasabi<1.1.0,>=0.4.0 in /usr/local/lib/python3.6/dist-packages (from spacy) (0.6.0)\n",
            "Requirement already satisfied, skipping upgrade: srsly<1.1.0,>=1.0.2 in /usr/local/lib/python3.6/dist-packages (from spacy) (1.0.2)\n",
            "Requirement already satisfied, skipping upgrade: murmurhash<1.1.0,>=0.28.0 in /usr/local/lib/python3.6/dist-packages (from spacy) (1.0.2)\n",
            "Requirement already satisfied, skipping upgrade: plac<1.2.0,>=0.9.6 in /usr/local/lib/python3.6/dist-packages (from spacy) (1.1.3)\n",
            "Requirement already satisfied, skipping upgrade: cymem<2.1.0,>=2.0.2 in /usr/local/lib/python3.6/dist-packages (from spacy) (2.0.3)\n",
            "Requirement already satisfied, skipping upgrade: setuptools in /usr/local/lib/python3.6/dist-packages (from spacy) (46.0.0)\n",
            "Requirement already satisfied, skipping upgrade: requests<3.0.0,>=2.13.0 in /usr/local/lib/python3.6/dist-packages (from spacy) (2.21.0)\n",
            "Requirement already satisfied, skipping upgrade: tqdm<5.0.0,>=4.38.0 in /usr/local/lib/python3.6/dist-packages (from spacy) (4.38.0)\n",
            "Requirement already satisfied, skipping upgrade: importlib-metadata>=0.20; python_version < \"3.8\" in /usr/local/lib/python3.6/dist-packages (from catalogue<1.1.0,>=0.0.7->spacy) (1.6.0)\n",
            "Requirement already satisfied, skipping upgrade: certifi>=2017.4.17 in /usr/local/lib/python3.6/dist-packages (from requests<3.0.0,>=2.13.0->spacy) (2019.11.28)\n",
            "Requirement already satisfied, skipping upgrade: idna<2.9,>=2.5 in /usr/local/lib/python3.6/dist-packages (from requests<3.0.0,>=2.13.0->spacy) (2.8)\n",
            "Requirement already satisfied, skipping upgrade: urllib3<1.25,>=1.21.1 in /usr/local/lib/python3.6/dist-packages (from requests<3.0.0,>=2.13.0->spacy) (1.24.3)\n",
            "Requirement already satisfied, skipping upgrade: chardet<3.1.0,>=3.0.2 in /usr/local/lib/python3.6/dist-packages (from requests<3.0.0,>=2.13.0->spacy) (3.0.4)\n",
            "Requirement already satisfied, skipping upgrade: zipp>=0.5 in /usr/local/lib/python3.6/dist-packages (from importlib-metadata>=0.20; python_version < \"3.8\"->catalogue<1.1.0,>=0.0.7->spacy) (3.1.0)\n",
            "\n",
            "\n",
            "Spacy with version==2.2.4 imported.\n"
          ],
          "name": "stdout"
        }
      ]
    },
    {
      "cell_type": "markdown",
      "metadata": {
        "id": "Jr53YD24FOTm",
        "colab_type": "text"
      },
      "source": [
        "**Language Model for Spacy:**\n",
        "A language model is the context provider for a particular language. It contains informations such as how the words are related and which one's are tags, entity, etc."
      ]
    },
    {
      "cell_type": "code",
      "metadata": {
        "id": "WHeX2FViFH9I",
        "colab_type": "code",
        "outputId": "163cc80e-a35c-428a-ae45-b56fb176b947",
        "colab": {
          "base_uri": "https://localhost:8080/",
          "height": 547
        }
      },
      "source": [
        "# Download the language model for spacy\n",
        "!python -m spacy download en\n",
        "spacy_model = spacy.load('en')  ## spacy_model = spacy.load(\"en_core_web_sm\")\n",
        "print(\"\\n\\nSpacy model imported at: {}\".format(spacy_model))"
      ],
      "execution_count": 11,
      "outputs": [
        {
          "output_type": "stream",
          "text": [
            "Requirement already satisfied: en_core_web_sm==2.2.5 from https://github.com/explosion/spacy-models/releases/download/en_core_web_sm-2.2.5/en_core_web_sm-2.2.5.tar.gz#egg=en_core_web_sm==2.2.5 in /usr/local/lib/python3.6/dist-packages (2.2.5)\n",
            "Requirement already satisfied: spacy>=2.2.2 in /usr/local/lib/python3.6/dist-packages (from en_core_web_sm==2.2.5) (2.2.4)\n",
            "Requirement already satisfied: tqdm<5.0.0,>=4.38.0 in /usr/local/lib/python3.6/dist-packages (from spacy>=2.2.2->en_core_web_sm==2.2.5) (4.38.0)\n",
            "Requirement already satisfied: catalogue<1.1.0,>=0.0.7 in /usr/local/lib/python3.6/dist-packages (from spacy>=2.2.2->en_core_web_sm==2.2.5) (1.0.0)\n",
            "Requirement already satisfied: murmurhash<1.1.0,>=0.28.0 in /usr/local/lib/python3.6/dist-packages (from spacy>=2.2.2->en_core_web_sm==2.2.5) (1.0.2)\n",
            "Requirement already satisfied: cymem<2.1.0,>=2.0.2 in /usr/local/lib/python3.6/dist-packages (from spacy>=2.2.2->en_core_web_sm==2.2.5) (2.0.3)\n",
            "Requirement already satisfied: wasabi<1.1.0,>=0.4.0 in /usr/local/lib/python3.6/dist-packages (from spacy>=2.2.2->en_core_web_sm==2.2.5) (0.6.0)\n",
            "Requirement already satisfied: setuptools in /usr/local/lib/python3.6/dist-packages (from spacy>=2.2.2->en_core_web_sm==2.2.5) (46.0.0)\n",
            "Requirement already satisfied: plac<1.2.0,>=0.9.6 in /usr/local/lib/python3.6/dist-packages (from spacy>=2.2.2->en_core_web_sm==2.2.5) (1.1.3)\n",
            "Requirement already satisfied: blis<0.5.0,>=0.4.0 in /usr/local/lib/python3.6/dist-packages (from spacy>=2.2.2->en_core_web_sm==2.2.5) (0.4.1)\n",
            "Requirement already satisfied: preshed<3.1.0,>=3.0.2 in /usr/local/lib/python3.6/dist-packages (from spacy>=2.2.2->en_core_web_sm==2.2.5) (3.0.2)\n",
            "Requirement already satisfied: srsly<1.1.0,>=1.0.2 in /usr/local/lib/python3.6/dist-packages (from spacy>=2.2.2->en_core_web_sm==2.2.5) (1.0.2)\n",
            "Requirement already satisfied: requests<3.0.0,>=2.13.0 in /usr/local/lib/python3.6/dist-packages (from spacy>=2.2.2->en_core_web_sm==2.2.5) (2.21.0)\n",
            "Requirement already satisfied: thinc==7.4.0 in /usr/local/lib/python3.6/dist-packages (from spacy>=2.2.2->en_core_web_sm==2.2.5) (7.4.0)\n",
            "Requirement already satisfied: numpy>=1.15.0 in /usr/local/lib/python3.6/dist-packages (from spacy>=2.2.2->en_core_web_sm==2.2.5) (1.18.2)\n",
            "Requirement already satisfied: importlib-metadata>=0.20; python_version < \"3.8\" in /usr/local/lib/python3.6/dist-packages (from catalogue<1.1.0,>=0.0.7->spacy>=2.2.2->en_core_web_sm==2.2.5) (1.6.0)\n",
            "Requirement already satisfied: idna<2.9,>=2.5 in /usr/local/lib/python3.6/dist-packages (from requests<3.0.0,>=2.13.0->spacy>=2.2.2->en_core_web_sm==2.2.5) (2.8)\n",
            "Requirement already satisfied: chardet<3.1.0,>=3.0.2 in /usr/local/lib/python3.6/dist-packages (from requests<3.0.0,>=2.13.0->spacy>=2.2.2->en_core_web_sm==2.2.5) (3.0.4)\n",
            "Requirement already satisfied: urllib3<1.25,>=1.21.1 in /usr/local/lib/python3.6/dist-packages (from requests<3.0.0,>=2.13.0->spacy>=2.2.2->en_core_web_sm==2.2.5) (1.24.3)\n",
            "Requirement already satisfied: certifi>=2017.4.17 in /usr/local/lib/python3.6/dist-packages (from requests<3.0.0,>=2.13.0->spacy>=2.2.2->en_core_web_sm==2.2.5) (2019.11.28)\n",
            "Requirement already satisfied: zipp>=0.5 in /usr/local/lib/python3.6/dist-packages (from importlib-metadata>=0.20; python_version < \"3.8\"->catalogue<1.1.0,>=0.0.7->spacy>=2.2.2->en_core_web_sm==2.2.5) (3.1.0)\n",
            "\u001b[38;5;2m✔ Download and installation successful\u001b[0m\n",
            "You can now load the model via spacy.load('en_core_web_sm')\n",
            "\u001b[38;5;2m✔ Linking successful\u001b[0m\n",
            "/usr/local/lib/python3.6/dist-packages/en_core_web_sm -->\n",
            "/usr/local/lib/python3.6/dist-packages/spacy/data/en\n",
            "You can now load the model via spacy.load('en')\n",
            "\n",
            "\n",
            "Spacy model imported at: <spacy.lang.en.English object at 0x7fd40f46ef98>\n"
          ],
          "name": "stdout"
        }
      ]
    },
    {
      "cell_type": "code",
      "metadata": {
        "id": "fu6xMjLyNglz",
        "colab_type": "code",
        "outputId": "838cee48-ce0a-4af1-b6e9-9404549fa268",
        "colab": {
          "base_uri": "https://localhost:8080/",
          "height": 68
        }
      },
      "source": [
        "doc1 = spacy_model(u\"Apple is looking at buying U.K. startup for $1 billion.\")\n",
        "for ent in doc1.ents:\n",
        "#     print(ent, type(ent))\n",
        "    print(\"Token [{}] belongs to Entity type [{}] which occurs in the text from index [{}] to index [{}].\".format(ent.text, ent.label_, ent.start_char, ent.end_char))"
      ],
      "execution_count": 12,
      "outputs": [
        {
          "output_type": "stream",
          "text": [
            "Token [Apple] belongs to Entity type [ORG] which occurs in the text from index [0] to index [5].\n",
            "Token [U.K.] belongs to Entity type [GPE] which occurs in the text from index [27] to index [31].\n",
            "Token [$1 billion] belongs to Entity type [MONEY] which occurs in the text from index [44] to index [54].\n"
          ],
          "name": "stdout"
        }
      ]
    },
    {
      "cell_type": "code",
      "metadata": {
        "id": "oOTPkcG5eyPN",
        "colab_type": "code",
        "outputId": "b77b1212-e866-4567-d357-1b8c17b9f5aa",
        "colab": {
          "base_uri": "https://localhost:8080/",
          "height": 408
        }
      },
      "source": [
        "# Filtering sentences\n",
        "doc2 = spacy_model(u\"\"\"In the expression named entity, the word named restricts\n",
        "                   the task to those entities for which one or many strings,\n",
        "                   such as words or phrases, stands (fairly) consistently for\n",
        "                   some referent. This is closely related to rigid designators,\n",
        "                   as defined by Kripke[3][4], although in practice NER deals\n",
        "                   with many names and referents that are not philosophically\n",
        "                   'rigid'. For instance, the automotive company created by\n",
        "                   Henry Ford in 1903 can be referred to as Ford or Ford Motor\n",
        "                   Company, although 'Ford' can refer to many other entities as\n",
        "                   well (see Ford). Rigid designators include proper names as\n",
        "                   well as terms for certain biological species and substances,\n",
        "                   but exclude pronouns (such as 'it'; see coreference \n",
        "                   resolution), descriptions that pick out a referent by its \n",
        "                   properties (see also De dicto and de re), and names for kinds\n",
        "                   of things as opposed to individuals (for example 'Bank').\"\"\")\n",
        "sentences = list(doc2.sents)\n",
        "print(\"This is the first sentence: [{}]\".format(sentences [0]))\n",
        "sentences"
      ],
      "execution_count": 13,
      "outputs": [
        {
          "output_type": "stream",
          "text": [
            "This is the first sentence: [In the expression named entity, the word named restricts\n",
            "                   the task to those entities for which one or many strings,\n",
            "                   such as words or phrases, stands (fairly) consistently for\n",
            "                   some referent.]\n"
          ],
          "name": "stdout"
        },
        {
          "output_type": "execute_result",
          "data": {
            "text/plain": [
              "[In the expression named entity, the word named restricts\n",
              "                    the task to those entities for which one or many strings,\n",
              "                    such as words or phrases, stands (fairly) consistently for\n",
              "                    some referent.,\n",
              " This is closely related to rigid designators,\n",
              "                    as defined by Kripke[3][4], although in practice NER deals\n",
              "                    with many names and referents that are not philosophically\n",
              "                    'rigid'.,\n",
              " For instance, the automotive company created by\n",
              "                    Henry Ford in 1903 can be referred to as Ford or Ford Motor\n",
              "                    Company, although 'Ford' can refer to many other entities as\n",
              "                    ,\n",
              " well (see Ford).,\n",
              " Rigid designators include proper names as\n",
              "                    well as terms for certain biological species and substances,\n",
              "                    but exclude pronouns (such as 'it'; see coreference \n",
              "                    resolution), descriptions that pick out a referent by its \n",
              "                    properties (see also De dicto and de re), and names for kinds\n",
              "                    of things as opposed to individuals (for example 'Bank').]"
            ]
          },
          "metadata": {
            "tags": []
          },
          "execution_count": 13
        }
      ]
    }
  ]
}