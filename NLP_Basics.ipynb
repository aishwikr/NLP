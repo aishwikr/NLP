{
  "nbformat": 4,
  "nbformat_minor": 0,
  "metadata": {
    "kernelspec": {
      "display_name": "Python 3",
      "language": "python",
      "name": "python3"
    },
    "language_info": {
      "codemirror_mode": {
        "name": "ipython",
        "version": 3
      },
      "file_extension": ".py",
      "mimetype": "text/x-python",
      "name": "python",
      "nbconvert_exporter": "python",
      "pygments_lexer": "ipython3",
      "version": "3.6.8"
    },
    "colab": {
      "name": "NLP_Basics.ipynb",
      "provenance": [],
      "include_colab_link": true
    }
  },
  "cells": [
    {
      "cell_type": "markdown",
      "metadata": {
        "id": "view-in-github",
        "colab_type": "text"
      },
      "source": [
        "<a href=\"https://colab.research.google.com/github/aishwikr/NLP/blob/master/NLP_Basics.ipynb\" target=\"_parent\"><img src=\"https://colab.research.google.com/assets/colab-badge.svg\" alt=\"Open In Colab\"/></a>"
      ]
    },
    {
      "cell_type": "code",
      "metadata": {
        "id": "2QKg5UcA9TKq",
        "colab_type": "code",
        "colab": {
          "base_uri": "https://localhost:8080/",
          "height": 102
        },
        "outputId": "80879d1a-e560-435d-c28d-b11fc7b23c9e"
      },
      "source": [
        "import pandas as pd\n",
        "import nltk\n",
        "import re\n",
        "import numpy as np\n",
        "from nltk import word_tokenize\n",
        "from nltk.corpus import stopwords\n",
        "from string import punctuation\n",
        "import matplotlib.pyplot as plt\n",
        "from collections import Counter\n",
        "\n",
        "#nltk.download()\n",
        "nltk.download('punkt')\n",
        "nltk.download('stopwords')"
      ],
      "execution_count": 1,
      "outputs": [
        {
          "output_type": "stream",
          "text": [
            "[nltk_data] Downloading package punkt to /root/nltk_data...\n",
            "[nltk_data]   Unzipping tokenizers/punkt.zip.\n",
            "[nltk_data] Downloading package stopwords to /root/nltk_data...\n",
            "[nltk_data]   Unzipping corpora/stopwords.zip.\n"
          ],
          "name": "stdout"
        },
        {
          "output_type": "execute_result",
          "data": {
            "text/plain": [
              "True"
            ]
          },
          "metadata": {
            "tags": []
          },
          "execution_count": 1
        }
      ]
    },
    {
      "cell_type": "code",
      "metadata": {
        "id": "7XrT3gx79TKv",
        "colab_type": "code",
        "colab": {
          "base_uri": "https://localhost:8080/",
          "height": 102
        },
        "outputId": "eeb597b0-3680-4e1a-8765-3efd592e06e4"
      },
      "source": [
        "def loadingData(fName): \n",
        "    data = pd.read_csv(fName, nrows=10)   #reading data\n",
        "    print(\"Data Type :\", data.dtypes)\n",
        "    print(\"Colums of Data :\", data.columns)\n",
        "    print(\"Index of Data\", data.index)\n",
        "    data = data.iloc[:,1]\n",
        "    data.head()\n",
        "    return data\n",
        "    \n",
        "data = loadingData(\"Dataset_1.csv\")    "
      ],
      "execution_count": 3,
      "outputs": [
        {
          "output_type": "stream",
          "text": [
            "Data Type : id       int64\n",
            "text    object\n",
            "dtype: object\n",
            "Colums of Data : Index(['id', 'text'], dtype='object')\n",
            "Index of Data RangeIndex(start=0, stop=10, step=1)\n"
          ],
          "name": "stdout"
        }
      ]
    },
    {
      "cell_type": "code",
      "metadata": {
        "id": "yF-dFNek9TKz",
        "colab_type": "code",
        "colab": {}
      },
      "source": [
        "def preProcessData(data):\n",
        "    stopwords_en = list(set(stopwords.words('english')))\n",
        "    def split(word): \n",
        "        return [char for char in word]   \n",
        "    punchList = split(punctuation)\n",
        "\n",
        "    #print(stopwords_en)\n",
        "    #print('Punctuation :', punchList)\n",
        "\n",
        "    wordTokenList = [word_tokenize(sent) for sent in data]\n",
        "    lowercasingList = [[word.lower() for word in sentence] for sentence in wordTokenList]\n",
        "    noStopWordList = [[word for word in sentence if word not in stopwords_en] for sentence in lowercasingList]\n",
        "    noPunchList = [[re.sub(r'([^\\s\\w]|_)+', '', word) for word in sentence] for sentence in noStopWordList]\n",
        "    #noPunchList = [[word for word in sentence if word not in punchList] for sentence in noStopWordList]\n",
        "    PP_data = [[word for word in sentence if word] for sentence in noPunchList]\n",
        "    return PP_data\n",
        "\n",
        "PP_data = preProcessData(data)"
      ],
      "execution_count": 0,
      "outputs": []
    },
    {
      "cell_type": "code",
      "metadata": {
        "id": "HK2f1qVm9TK6",
        "colab_type": "code",
        "colab": {
          "base_uri": "https://localhost:8080/",
          "height": 68
        },
        "outputId": "aa038cd0-66c0-4ebe-cc0b-355c04eed304"
      },
      "source": [
        "import nltk\n",
        "nltk.download('averaged_perceptron_tagger')\n",
        "  \n",
        "def POStagging(PP_data):\n",
        "    POSTaggList = []\n",
        "    for sent in PP_data:\n",
        "        POSTaggList.extend(nltk.pos_tag(sent))    \n",
        "    return POSTaggList\n",
        "    \n",
        "POS_data = POStagging(PP_data)"
      ],
      "execution_count": 6,
      "outputs": [
        {
          "output_type": "stream",
          "text": [
            "[nltk_data] Downloading package averaged_perceptron_tagger to\n",
            "[nltk_data]     /root/nltk_data...\n",
            "[nltk_data]   Unzipping taggers/averaged_perceptron_tagger.zip.\n"
          ],
          "name": "stdout"
        }
      ]
    },
    {
      "cell_type": "code",
      "metadata": {
        "id": "FJ83ozew9TK-",
        "colab_type": "code",
        "colab": {
          "base_uri": "https://localhost:8080/",
          "height": 492
        },
        "outputId": "a40bf39f-f317-4ff2-debd-60ea90750a41"
      },
      "source": [
        "#Data Statistics: Document Level\n",
        "def sentStatsPlot(PP_data):\n",
        "    sentenceLenList = [] \n",
        "    print(\"Total Number of Documents in the data :\", len(PP_data)) \n",
        "    for sent in PP_data:\n",
        "        sentenceLenList.append(len(sent))\n",
        "\n",
        "    print(\"Sample Document Length\", sentenceLenList[:10])    \n",
        "    print(\"Maximum Number of words in a Document:\", max(sentenceLenList)) \n",
        "    print(\"Minimum Number of words in a Document:\", min(sentenceLenList)) \n",
        "    print(\"Average Number of words in a Document:\", sum(sentenceLenList)/len(PP_data)) \n",
        "    print(\"Median Number of words in a Document:\", np.median(sentenceLenList))\n",
        "    \n",
        "    #Whisker-box plot\n",
        "    data_to_plot = [np.array(sentenceLenList)]\n",
        "    fig = plt.figure(1, figsize=(9, 6))\n",
        "\n",
        "    ax = fig.add_subplot(111)\n",
        "    bp = ax.boxplot(data_to_plot)\n",
        "\n",
        "    ax.set_xticklabels(['Documents', ])\n",
        "    ax.set_title('Whisker box plot Document Length')\n",
        "    ax.set_ylabel('Documents Length')\n",
        "    return\n",
        "\n",
        "sentStatsPlot(PP_data)"
      ],
      "execution_count": 7,
      "outputs": [
        {
          "output_type": "stream",
          "text": [
            "Total Number of Documents in the data : 10\n",
            "Sample Document Length [17, 19, 18, 45, 42, 51, 15, 106, 45, 27]\n",
            "Maximum Number of words in a Document: 106\n",
            "Minimum Number of words in a Document: 15\n",
            "Average Number of words in a Document: 38.5\n",
            "Median Number of words in a Document: 34.5\n"
          ],
          "name": "stdout"
        },
        {
          "output_type": "display_data",
          "data": {
            "image/png": "[encoded data removed]",
            "text/plain": [
              "<Figure size 648x432 with 1 Axes>"
            ]
          },
          "metadata": {
            "tags": []
          }
        }
      ]
    },
    {
      "cell_type": "code",
      "metadata": {
        "id": "HEtSAS6e9TLD",
        "colab_type": "code",
        "colab": {
          "base_uri": "https://localhost:8080/",
          "height": 400
        },
        "outputId": "96794949-dd82-43d5-e1ba-05eb90e0efc9"
      },
      "source": [
        "def wordStatsAndPlot(PP_data):\n",
        "    wordList = []\n",
        "    for sent in PP_data:\n",
        "        for word in sent:\n",
        "            wordList.append(word)\n",
        "    print (\"Sample Word List :\", wordList[:10])\n",
        "    print(\"=================================================\")\n",
        "    counter = Counter(wordList)\n",
        "    print(\"Total Number of words :\", len(wordList))\n",
        "    print(\"Total Number Unique of words :\", len(list(set(wordList))))\n",
        "    print (\"Most Frequent 30 words :\", counter.most_common(30))\n",
        "    \n",
        "    wordPlotList, wordIndexList, freqList = [], [], [] \n",
        "    count = 0\n",
        "    for word, freq in counter.most_common(len(set(wordList))):\n",
        "        wordPlotList.append(word)\n",
        "        wordIndexList.append(count)\n",
        "        freqList.append(freq)\n",
        "        count += 1   \n",
        "        \n",
        "    plt.title('Term Statistics')\n",
        "    plt.xlabel('Term Index')\n",
        "    plt.ylabel('Frequency')\n",
        "    plt.plot(wordIndexList, freqList, 'ro-')\n",
        "    #plt.gca().legend(('Train_Avg_MSE','Test_Avg_MSE'))\n",
        "    #plt.savefig('lembdaVsAvg_MSE_part-'+str(parti)+'.png')\n",
        "    plt.show()\n",
        "    \n",
        "wordStatsAndPlot(PP_data)    "
      ],
      "execution_count": 8,
      "outputs": [
        {
          "output_type": "stream",
          "text": [
            "Sample Word List : ['p', 'backprop', 'mean', 've', 'googled', 's', 'showing', 'backpropagation', 'p', 'p']\n",
            "=================================================\n",
            "Total Number of words : 385\n",
            "Total Number Unique of words : 251\n",
            "Most Frequent 30 words : [('p', 44), ('href', 7), ('a', 7), ('ai', 6), ('intelligence', 5), ('https', 5), ('rel', 4), ('artificial', 4), ('two', 4), ('test', 4), ('help', 3), ('network', 3), ('know', 3), ('system', 3), ('nofollow', 3), ('intelligent', 3), ('registration', 3), ('use', 3), ('types', 3), ('backprop', 2), ('mean', 2), ('ve', 2), ('s', 2), ('backpropagation', 2), ('make', 2), ('need', 2), ('single', 2), ('number', 2), ('m', 2), ('could', 2)]\n"
          ],
          "name": "stdout"
        },
        {
          "output_type": "display_data",
          "data": {
            "image/png": "[encoded data removed]",
            "text/plain": [
              "<Figure size 432x288 with 1 Axes>"
            ]
          },
          "metadata": {
            "tags": []
          }
        }
      ]
    },
    {
      "cell_type": "code",
      "metadata": {
        "id": "Sl7XQc4W9TLH",
        "colab_type": "code",
        "colab": {
          "base_uri": "https://localhost:8080/",
          "height": 366
        },
        "outputId": "7879e77c-b27c-43df-f2ab-55f970b35ba4"
      },
      "source": [
        "def POSStatsAndPlot(POS_data):  \n",
        "    POSTaggList = []\n",
        "    for _, POS in POS_data:\n",
        "        POSTaggList.append(POS)\n",
        "       \n",
        "    print(\"Total Number of POS tagg :\", len(POSTaggList))\n",
        "    print(\"Total Number of unique POS tagg :\", len(set(POSTaggList)))\n",
        "    POScounter = Counter(POSTaggList) \n",
        "    print (\"Most Frequent 30 POS tag :\", POScounter.most_common(30))\n",
        "    \n",
        "    POSPlotList, POSIndexList, POSfreqList = [], [], [] \n",
        "    count = 0\n",
        "    for word, freq in POScounter.most_common(len(set(POSTaggList))):\n",
        "        POSPlotList.append(word)\n",
        "        POSIndexList.append(count)\n",
        "        POSfreqList.append(freq)\n",
        "        count += 1     \n",
        "        \n",
        "    plt.title('POS Term Statistics')\n",
        "    plt.xlabel('POS Term Index')\n",
        "    plt.ylabel('POS term Frequency')\n",
        "    plt.plot(POSIndexList, POSfreqList, 'ro-')\n",
        "    #plt.gca().legend(('Train_Avg_MSE','Test_Avg_MSE'))\n",
        "    #plt.savefig('lembdaVsAvg_MSE_part-'+str(parti)+'.png')\n",
        "    plt.show()\n",
        "    \n",
        "POSStatsAndPlot(POS_data)"
      ],
      "execution_count": 9,
      "outputs": [
        {
          "output_type": "stream",
          "text": [
            "Total Number of POS tagg : 385\n",
            "Total Number of unique POS tagg : 19\n",
            "Most Frequent 30 POS tag : [('NN', 151), ('JJ', 82), ('NNS', 36), ('VBP', 20), ('VBG', 19), ('RB', 17), ('VBN', 11), ('VBD', 9), ('VB', 8), ('DT', 7), ('IN', 5), ('CD', 5), ('VBZ', 4), ('MD', 3), ('JJR', 3), ('JJS', 2), ('PRP', 1), ('RBR', 1), ('WRB', 1)]\n"
          ],
          "name": "stdout"
        },
        {
          "output_type": "display_data",
          "data": {
            "image/png": "[encoded data removed]",
            "text/plain": [
              "<Figure size 432x288 with 1 Axes>"
            ]
          },
          "metadata": {
            "tags": []
          }
        }
      ]
    },
    {
      "cell_type": "code",
      "metadata": {
        "id": "_hN7Srg-9TLO",
        "colab_type": "code",
        "colab": {}
      },
      "source": [
        ""
      ],
      "execution_count": 0,
      "outputs": []
    }
  ]
}